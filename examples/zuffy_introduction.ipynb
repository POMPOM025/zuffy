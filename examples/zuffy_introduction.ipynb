{
 "cells": [
  {
   "cell_type": "code",
   "execution_count": 5,
   "id": "3e63fe86",
   "metadata": {},
   "outputs": [
    {
     "ename": "ModuleNotFoundError",
     "evalue": "No module named 'zuffy'",
     "output_type": "error",
     "traceback": [
      "\u001b[1;31m---------------------------------------------------------------------------\u001b[0m",
      "\u001b[1;31mModuleNotFoundError\u001b[0m                       Traceback (most recent call last)",
      "Cell \u001b[1;32mIn[5], line 4\u001b[0m\n\u001b[0;32m      2\u001b[0m \u001b[38;5;28;01mimport\u001b[39;00m \u001b[38;5;21;01mpandas\u001b[39;00m \u001b[38;5;28;01mas\u001b[39;00m \u001b[38;5;21;01mpd\u001b[39;00m\n\u001b[0;32m      3\u001b[0m \u001b[38;5;28;01mfrom\u001b[39;00m \u001b[38;5;21;01msklearn\u001b[39;00m\u001b[38;5;21;01m.\u001b[39;00m\u001b[38;5;21;01mdatasets\u001b[39;00m \u001b[38;5;28;01mimport\u001b[39;00m load_iris\n\u001b[1;32m----> 4\u001b[0m \u001b[38;5;28;01mfrom\u001b[39;00m \u001b[38;5;21;01mzuffy\u001b[39;00m \u001b[38;5;28;01mimport\u001b[39;00m ZuffyClassifier, functions, visuals\n\u001b[0;32m      5\u001b[0m \u001b[38;5;28;01mfrom\u001b[39;00m \u001b[38;5;21;01mzuffy\u001b[39;00m\u001b[38;5;21;01m.\u001b[39;00m\u001b[38;5;21;01mwrapper\u001b[39;00m \u001b[38;5;28;01mimport\u001b[39;00m ZuffyFitIterator\n",
      "\u001b[1;31mModuleNotFoundError\u001b[0m: No module named 'zuffy'"
     ]
    }
   ],
   "source": [
    "%matplotlib inline\n",
    "import pandas as pd\n",
    "from sklearn.datasets import load_iris\n",
    "from zuffy import ZuffyClassifier, functions, visuals\n",
    "from zuffy.wrapper import ZuffyFitIterator"
   ]
  },
  {
   "cell_type": "code",
   "execution_count": null,
   "id": "8ded0fa6",
   "metadata": {},
   "outputs": [],
   "source": [
    "iris = load_iris()\n",
    "dataset = pd.DataFrame(data=iris.data, columns=iris.feature_names)\n",
    "dataset['target'] = iris.target\n",
    "targetNames = iris.target_names\n",
    "X = dataset.iloc[:,0:-1]\n",
    "y = dataset.iloc[:,-1]"
   ]
  },
  {
   "cell_type": "code",
   "execution_count": null,
   "id": "25747806",
   "metadata": {},
   "outputs": [],
   "source": [
    "fuzzy_X, fuzzy_features_names = functions.fuzzify_data(X)\n",
    "\n",
    "fptgp = ZuffyClassifier(generations=15, verbose=1)"
   ]
  },
  {
   "cell_type": "code",
   "execution_count": null,
   "id": "df51a0d3",
   "metadata": {},
   "outputs": [],
   "source": [
    "res = ZuffyFitIterator(fptgp, fuzzy_X, y, n_iter=3, split_at=0.25, random_state=77)"
   ]
  },
  {
   "cell_type": "code",
   "execution_count": null,
   "id": "fc639a3e",
   "metadata": {},
   "outputs": [],
   "source": [
    "visuals.plot_evolution(\n",
    "    res.getBestEstimator(),\n",
    "    targetNames,\n",
    "    res.getPerformance(),\n",
    "    outputFilename='sample1_analysis')"
   ]
  },
  {
   "cell_type": "code",
   "execution_count": 2,
   "id": "7c35ae0f",
   "metadata": {},
   "outputs": [
    {
     "ename": "NameError",
     "evalue": "name 'visuals' is not defined",
     "output_type": "error",
     "traceback": [
      "\u001b[1;31m---------------------------------------------------------------------------\u001b[0m",
      "\u001b[1;31mNameError\u001b[0m                                 Traceback (most recent call last)",
      "Cell \u001b[1;32mIn[2], line 1\u001b[0m\n\u001b[1;32m----> 1\u001b[0m visuals\u001b[38;5;241m.\u001b[39mgraphviz_tree(\n\u001b[0;32m      2\u001b[0m     res\u001b[38;5;241m.\u001b[39mgetBestEstimator(),\n\u001b[0;32m      3\u001b[0m     targetNames,\n\u001b[0;32m      4\u001b[0m     featureNames\u001b[38;5;241m=\u001b[39mfuzzy_features_names,\n\u001b[0;32m      5\u001b[0m     treeName\u001b[38;5;241m=\u001b[39m\u001b[38;5;124m\"\u001b[39m\u001b[38;5;124mIris Dataset (best accuracy: \u001b[39m\u001b[38;5;124m\"\u001b[39m \u001b[38;5;241m+\u001b[39m \u001b[38;5;28mstr\u001b[39m(\u001b[38;5;28mround\u001b[39m(res\u001b[38;5;241m.\u001b[39mgetBestScore(),\u001b[38;5;241m3\u001b[39m)) \u001b[38;5;241m+\u001b[39m \u001b[38;5;124m\"\u001b[39m\u001b[38;5;124m)\u001b[39m\u001b[38;5;124m\"\u001b[39m,\n\u001b[0;32m      6\u001b[0m     outputFilename\u001b[38;5;241m=\u001b[39m\u001b[38;5;124m'\u001b[39m\u001b[38;5;124msample1\u001b[39m\u001b[38;5;124m'\u001b[39m)\n",
      "\u001b[1;31mNameError\u001b[0m: name 'visuals' is not defined"
     ]
    }
   ],
   "source": [
    "visuals.graphviz_tree(\n",
    "    res.getBestEstimator(),\n",
    "    targetNames,\n",
    "    featureNames=fuzzy_features_names,\n",
    "    treeName=\"Iris Dataset (best accuracy: \" + str(round(res.getBestScore(),3)) + \")\",\n",
    "    outputFilename='sample1')"
   ]
  },
  {
   "cell_type": "code",
   "execution_count": null,
   "id": "557aff1f",
   "metadata": {},
   "outputs": [],
   "source": []
  }
 ],
 "metadata": {
  "kernelspec": {
   "display_name": "Python 3",
   "language": "python",
   "name": "python3"
  },
  "language_info": {
   "codemirror_mode": {
    "name": "ipython",
    "version": 3
   },
   "file_extension": ".py",
   "mimetype": "text/x-python",
   "name": "python",
   "nbconvert_exporter": "python",
   "pygments_lexer": "ipython3",
   "version": "3.11.9"
  }
 },
 "nbformat": 4,
 "nbformat_minor": 5
}
